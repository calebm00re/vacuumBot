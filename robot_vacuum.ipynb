{
 "cells": [
  {
   "cell_type": "markdown",
   "metadata": {
    "pycharm": {
     "name": "#%% md\n"
    }
   },
   "source": [
    "# Intelligent Agents: Reflex-Based Agents for the Vacuum-cleaner World\n",
    "\n",
    "\n",
    "## Instructions\n",
    "\n",
    "Total Points: Undergrads 100 / Graduate students 110\n",
    "\n",
    "Complete this notebook. Use the provided notebook cells and insert additional code and markdown cells as needed. Submit the completely rendered notebook as a PDF file. \n",
    "\n",
    "## Introduction\n",
    "\n",
    "In this assignment you will implement a simulator environment for an automatic vacuum cleaner robot, a set of different reflex-based agent programs, and perform a comparison study for cleaning a single room. Focus on the __cleaning phase__ which starts when the robot is activated and ends when the last dirty square in the room has been cleaned. Someone else will take care of the agent program needed to navigate back to the charging station after the room is clean.\n",
    "\n",
    "## PEAS description of the cleaning phase\n",
    "\n",
    "__Performance Measure:__ Each action costs 1 energy unit. The performance is measured as the sum of the energy units used to clean the whole room.\n",
    "\n",
    "__Environment:__ A room with $n \\times n$ squares where $n = 5$. Dirt is randomly placed on each square with probability $p = 0.2$. For simplicity, you can assume that the agent knows the size and the layout of the room (i.e., it knows $n$). To start, the agent is placed on a random square.\n",
    "\n",
    "__Actuators:__ The agent can clean the current square (action `suck`) or move to an adjacent square by going `north`, `east`, `south`, or `west`.\n",
    "\n",
    "__Sensors:__ Four bumper sensors, one for north, east, south, and west; a dirt sensor reporting dirt in the current square.  \n",
    "\n",
    "\n",
    "## The agent program for a simple randomized agent\n",
    "\n",
    "The agent program is a function that gets sensor information (the current percepts) as the arguments. The arguments are:\n",
    "\n",
    "* A dictionary with boolean entries for the for bumper sensors `north`, `east`, `west`, `south`. E.g., if the agent is on the north-west corner, `bumpers` will be `{\"north\" : True, \"east\" : False, \"south\" : False, \"west\" : True}`.\n",
    "* The dirt sensor produces a boolean.\n",
    "\n",
    "The agent returns the chosen action as a string.\n",
    "\n",
    "Here is an example implementation for the agent program of a simple randomized agent:  "
   ]
  },
  {
   "cell_type": "code",
   "execution_count": 1,
   "metadata": {
    "pycharm": {
     "name": "#%%\n"
    }
   },
   "outputs": [],
   "source": [
    "import numpy as np\n",
    "\n",
    "actions = [\"north\", \"east\", \"west\", \"south\", \"suck\"]\n",
    "\n",
    "def simple_randomized_agent(bumpers, dirty):\n",
    "    return np.random.choice(actions)"
   ]
  },
  {
   "cell_type": "code",
   "execution_count": 2,
   "metadata": {
    "pycharm": {
     "name": "#%%\n"
    }
   },
   "outputs": [
    {
     "data": {
      "text/plain": [
       "'east'"
      ]
     },
     "execution_count": 2,
     "metadata": {},
     "output_type": "execute_result"
    }
   ],
   "source": [
    "# define percepts (current location is NW corner and it is dirty)\n",
    "bumpers = {\"north\" : True, \"east\" : False, \"south\" : False, \"west\" : True}\n",
    "dirty = True\n",
    "\n",
    "# call agent program function with percepts and it returns an action\n",
    "simple_randomized_agent(bumpers, dirty)"
   ]
  },
  {
   "cell_type": "markdown",
   "metadata": {
    "pycharm": {
     "name": "#%% md\n"
    }
   },
   "source": [
    "__Note:__ This is not a rational intelligent agent. It ignores its sensors and may bump into a wall repeatedly or not clean a dirty square. You will be asked to implement rational agents below."
   ]
  },
  {
   "cell_type": "markdown",
   "metadata": {
    "pycharm": {
     "name": "#%% md\n"
    }
   },
   "source": [
    "## Simple environment example\n",
    "\n",
    "We implement a simple simulation environment that supplies the agent with its percepts.\n",
    "The simple environment is infinite in size (bumpers are always `False`) and every square is always dirty, even if the agent cleans it. The environment function returns a performance measure which is here the number of cleaned squares (since the room is infinite and all squares are constantly dirty, the agent can never clean the whole room as required in the PEAS description above). The energy budget of the agent is specified as `max_steps`. "
   ]
  },
  {
   "cell_type": "code",
   "execution_count": 3,
   "metadata": {
    "pycharm": {
     "name": "#%%\n"
    }
   },
   "outputs": [],
   "source": [
    "def simple_environment(agent, max_steps, verbose = True):\n",
    "    num_cleaned = 0\n",
    "    \n",
    "    for i in range(max_steps):\n",
    "        dirty = True\n",
    "        bumpers = {\"north\" : False, \"south\" : False, \"west\" : False, \"east\" : False}\n",
    "\n",
    "        action = agent(bumpers, dirty)\n",
    "        if (verbose): print(\"step\", i , \"- action:\", action) \n",
    "        \n",
    "        if (action == \"suck\"): \n",
    "            num_cleaned = num_cleaned + 1\n",
    "        \n",
    "    return num_cleaned\n",
    "        \n"
   ]
  },
  {
   "cell_type": "markdown",
   "metadata": {
    "pycharm": {
     "name": "#%% md\n"
    }
   },
   "source": [
    "Do one simulation run with a simple randomized agent that has enough energy for 20 steps."
   ]
  },
  {
   "cell_type": "code",
   "execution_count": 4,
   "metadata": {
    "pycharm": {
     "name": "#%%\n"
    }
   },
   "outputs": [
    {
     "name": "stdout",
     "output_type": "stream",
     "text": [
      "step 0 - action: suck\n",
      "step 1 - action: north\n",
      "step 2 - action: north\n",
      "step 3 - action: east\n",
      "step 4 - action: north\n",
      "step 5 - action: suck\n",
      "step 6 - action: east\n",
      "step 7 - action: east\n",
      "step 8 - action: south\n",
      "step 9 - action: north\n",
      "step 10 - action: suck\n",
      "step 11 - action: suck\n",
      "step 12 - action: suck\n",
      "step 13 - action: east\n",
      "step 14 - action: east\n",
      "step 15 - action: south\n",
      "step 16 - action: south\n",
      "step 17 - action: suck\n",
      "step 18 - action: north\n",
      "step 19 - action: suck\n"
     ]
    },
    {
     "data": {
      "text/plain": [
       "7"
      ]
     },
     "execution_count": 4,
     "metadata": {},
     "output_type": "execute_result"
    }
   ],
   "source": [
    "simple_environment(simple_randomized_agent, max_steps = 20)"
   ]
  },
  {
   "cell_type": "markdown",
   "metadata": {
    "pycharm": {
     "name": "#%% md\n"
    }
   },
   "source": [
    "# Tasks\n",
    "\n",
    "## General [10 Points]\n",
    "\n",
    "1. Make sure that you use the latest version of this notebook. Sync your forked repository and pull the latest revision. \n",
    "2. Your implementation can use libraries like math, numpy, scipy, but not libraries that implement inteligent agents or complete search algorithms. Try to keep the code simple! In this course, we want to learn about the algorithms and we often do not need to use object-oriented design.\n",
    "3. You notebook needs to be formated professionally. \n",
    "    - Add additional markdown blocks for your description, comments in the code, add tables and use mathplotlib to produce charts where appropriate\n",
    "    - Do not show debugging output or include an excessive amount of output.\n",
    "    - Check that your PDF file is readable. For example, long lines are cut off in the PDF file. You don't have control over page breaks, so do not worry about these.\n",
    "4. Document your code. Add a short discussion of how your implementation works and your design choices.\n",
    "\n",
    "\n",
    "## Task 1: Implement a simulation environment [20 Points]\n",
    "\n",
    "The simple environment above is not very realistic. Your environment simulator needs to follow the PEAS description from above. It needs to:\n",
    "\n",
    "* Initialize the environment by storing the state of each square (clean/dirty) and making some dirty. ([Help with random numbers and arrays in Python](https://github.com/mhahsler/CS7320-AI/blob/master/Python_Code_Examples/random_numbers_and_arrays.ipynb))\n",
    "* Keep track of the agent's position.\n",
    "* Call the agent function repeatedly and provide the agent function with the sensor inputs.  \n",
    "* React to the agent's actions. E.g, by removing dirt from a square or moving the agent around unless there is a wall in the way.\n",
    "* Keep track of the performance measure. That is, track the agent's actions until all dirty squares are clean and count the number of actions it takes the agent to complete the task.\n",
    "\n",
    "The easiest implementation for the environment is to hold an 2-dimensional array to represent if squares are clean or dirty and to call the agent function in a loop until all squares are clean or a predefined number of steps have been reached (i.e., the robot runs out of energy).\n",
    "\n",
    "The simulation environment should be a function like the `simple_environment()` and needs to work with the simple randomized agent program from above. **Use the same environmnt for all your agent implementations in the tasks below.**\n",
    "\n",
    "*Note on debugging:* Debugging is difficult. Make sure your environment prints enough information when you use `verbose = True`. Also, implementing a function that the environment can use to displays the room with dirt and the current position of the robot at every step is very useful."
   ]
  },
  {
   "cell_type": "code",
   "execution_count": 5,
   "metadata": {
    "pycharm": {
     "name": "#%%\n"
    }
   },
   "outputs": [],
   "source": [
    "import numpy as np\n",
    "#print out the environment\n",
    "def print_environment(environment):\n",
    "    print(np.matrix(environment))"
   ]
  },
  {
   "cell_type": "code",
   "execution_count": 6,
   "metadata": {
    "pycharm": {
     "name": "#%%\n"
    }
   },
   "outputs": [
    {
     "data": {
      "text/plain": [
       "(68, True)"
      ]
     },
     "execution_count": 6,
     "metadata": {},
     "output_type": "execute_result"
    }
   ],
   "source": [
    "# Your code and description goes here\n",
    "def get_sensors(environment, botX, botY):\n",
    "    dimensions = len(environment)\n",
    "    sides = {\"north\" : False, \"south\" : False, \"west\" : False, \"east\" : False}\n",
    "    if botY == 0:\n",
    "        sides['west'] = True\n",
    "    if botX == 0:\n",
    "        sides['north'] = True\n",
    "    if botY == dimensions-1:\n",
    "        sides['east'] = True\n",
    "    if botX == dimensions-1:\n",
    "        sides['south'] = True\n",
    "    return sides\n",
    "\n",
    "def check_clean(environment):\n",
    "    dimensions = len(environment)\n",
    "    for i in range(dimensions):\n",
    "        for j in range(dimensions):\n",
    "            if environment[i][j] == 'dirty':\n",
    "                return False\n",
    "    return True\n",
    "\n",
    "\n",
    "def environment(agent, steps, verbose = False, dimensions = 5):\n",
    "    #if steps is -1 it should run until the room is clean rather than the steps are reached\n",
    "    movements = {'north': {'x': -1, 'y': 0}, 'south': {'x': 1, 'y': 0}, 'east': {'x': 0, 'y': 1}, 'west': {'x': 0, 'y': -1}}\n",
    "    env = [ ['clean']*dimensions for i in range(dimensions)]\n",
    "    #assign dirt\n",
    "    for i in range(dimensions):\n",
    "        for j in range(dimensions):\n",
    "            if np.random.rand() < .2:\n",
    "                env[i][j] = 'dirty'\n",
    "\n",
    "    #place vacuum\n",
    "    botX = np.random.randint(dimensions)\n",
    "    botY = np.random.randint(dimensions)\n",
    "    underTheBot = env[botX][botY]\n",
    "    env[botX][botY] = 'bot'\n",
    "\n",
    "    #do all steps for bot\n",
    "    if verbose:\n",
    "        print('initial')\n",
    "        print_environment(env)\n",
    "        print()\n",
    "\n",
    "    count = 0\n",
    "    if steps == -1:\n",
    "        while True:\n",
    "            walls = get_sensors(env, botX, botY)\n",
    "            dirt = False\n",
    "            if underTheBot == 'dirty':\n",
    "                dirt = True\n",
    "            move = agent(walls, dirt)\n",
    "            if move == 'suck':\n",
    "                underTheBot = 'clean'\n",
    "            else:\n",
    "                if walls[move] is False:\n",
    "                    env[botX][botY] = underTheBot\n",
    "                    botX += movements[move]['x']\n",
    "                    botY += movements[move]['y']\n",
    "                    underTheBot = env[botX][botY]\n",
    "                    env[botX][botY] = 'bot'\n",
    "            if check_clean(env):\n",
    "                if verbose:\n",
    "                    print('cleaned in', i, 'steps')\n",
    "                break\n",
    "            if verbose:\n",
    "                print_environment(env)\n",
    "                print()\n",
    "            count += 1\n",
    "        return count\n",
    "\n",
    "    for i in range(steps):\n",
    "        walls = get_sensors(env, botX, botY)\n",
    "        dirt = False\n",
    "        if underTheBot == 'dirty':\n",
    "            dirt = True\n",
    "        move = agent(walls, dirt)\n",
    "        if move == 'suck':\n",
    "            underTheBot = 'clean'\n",
    "        else:\n",
    "            if walls[move] is False:\n",
    "                env[botX][botY] = underTheBot\n",
    "                botX += movements[move]['x']\n",
    "                botY += movements[move]['y']\n",
    "                underTheBot = env[botX][botY]\n",
    "                env[botX][botY] = 'bot'\n",
    "        if check_clean(env):\n",
    "            if verbose:\n",
    "                print('cleaned in', i, 'steps')\n",
    "            break\n",
    "        if verbose:\n",
    "            print_environment(env)\n",
    "            print()\n",
    "        count += 1\n",
    "\n",
    "    if verbose:\n",
    "        print('after')\n",
    "        print_environment(env)\n",
    "    return count, check_clean(env)\n",
    "\n",
    "\n",
    "environment(simple_randomized_agent, 500)"
   ]
  },
  {
   "cell_type": "markdown",
   "metadata": {
    "pycharm": {
     "name": "#%% md\n"
    }
   },
   "source": [
    "## Task 2:  Implement a simple reflex agent [10 Points] \n",
    "\n",
    "The simple reflex agent randomly walks around but reacts to the bumper sensor by not bumping into the wall and to dirt with sucking. Implement the agent program as a function.\n",
    "\n",
    "_Note:_ Agents cannot directly use variable in the environment. They only gets the percepts as the arguments to the agent function."
   ]
  },
  {
   "cell_type": "code",
   "execution_count": 7,
   "metadata": {
    "pycharm": {
     "name": "#%%\n"
    }
   },
   "outputs": [
    {
     "data": {
      "text/plain": [
       "(56, True)"
      ]
     },
     "execution_count": 7,
     "metadata": {},
     "output_type": "execute_result"
    }
   ],
   "source": [
    "# Your code and description goes here\n",
    "def simple_reflex_agent(bumpers, dirty):\n",
    "    if dirty:\n",
    "        return 'suck'\n",
    "    open = []\n",
    "    for key, value in bumpers.items():\n",
    "        if value is False:\n",
    "            open.append(key)\n",
    "    return np.random.choice(open)\n",
    "\n",
    "environment(simple_reflex_agent, 500)"
   ]
  },
  {
   "cell_type": "markdown",
   "metadata": {
    "pycharm": {
     "name": "#%% md\n"
    }
   },
   "source": [
    "## Task 3: Implement a model-based reflex agent [20 Points]\n",
    "\n",
    "Model-based agents use a state to keep track of what they have done and perceived so far. Your agent needs to find out where it is located and then keep track of its current location. You also need a set of rules based on the state and the percepts to make sure that the agent will clean the whole room. For example, the agent can move to a corner to determine its location and then it can navigate through the whole room and clean dirty squares.\n",
    "\n",
    "Describe how you define the __agent state__ and how your agent works before implementing it. ([Help with implementing state information on Python](https://github.com/mhahsler/CS7320-AI/blob/master/Python_Code_Examples/store_agent_state_information.ipynb))"
   ]
  },
  {
   "cell_type": "code",
   "execution_count": 8,
   "metadata": {
    "pycharm": {
     "name": "#%%\n"
    }
   },
   "outputs": [],
   "source": [
    "# Your short description of the state and your implementation goes here\n",
    "# I used the kind we talked about by first navigating to the north-west corner and weaving up and down from there\n",
    "# Global variables remember if I have started my weaving pattern or if I am still heading to the north-west corner and after that which direction I am currently weaving"
   ]
  },
  {
   "cell_type": "code",
   "execution_count": 9,
   "metadata": {
    "pycharm": {
     "name": "#%%\n"
    }
   },
   "outputs": [
    {
     "data": {
      "text/plain": [
       "(27, True)"
      ]
     },
     "execution_count": 9,
     "metadata": {},
     "output_type": "execute_result"
    }
   ],
   "source": [
    "# Your code goes here\n",
    "started = False\n",
    "heading = 'south'\n",
    "# seen_corner = False\n",
    "\n",
    "def model_based_agent(bumpers, dirty):\n",
    "    global started\n",
    "    global heading\n",
    "    #always clean if dirty\n",
    "    if dirty:\n",
    "        return 'suck'\n",
    "\n",
    "    #navigate towards the northwest corner\n",
    "    if not started and not bumpers['north']:\n",
    "        return 'north'\n",
    "\n",
    "    if not started and not bumpers['west']:\n",
    "        return 'west'\n",
    "\n",
    "    if not started and bumpers['north'] and bumpers['west']:\n",
    "        started = True\n",
    "        return 'south'\n",
    "\n",
    "    #start the weaving pattern\n",
    "    if bumpers[heading]:\n",
    "        heading = 'north' if heading == 'south' else 'south'\n",
    "        return 'east'\n",
    "\n",
    "    else:\n",
    "        return heading\n",
    "environment(model_based_agent, 500)"
   ]
  },
  {
   "cell_type": "markdown",
   "metadata": {
    "pycharm": {
     "name": "#%% md\n"
    }
   },
   "source": [
    "## Task 4: Simulation study [30 Points]\n",
    "\n",
    "Compare the performance (the performance measure is defined in the PEAS description above) of the agents using  environments of different size. E.g., $5 \\times 5$, $10 \\times 10$ and\n",
    "$100 \\times 100$. Use 100 random runs for each. Present the results using tables and graphs. Discuss the differences between the agents. \n",
    "([Help with charts and tables in Python](https://github.com/mhahsler/CS7320-AI/blob/master/Python_Code_Examples/charts_and_tables.ipynb))"
   ]
  },
  {
   "cell_type": "code",
   "execution_count": 10,
   "metadata": {
    "pycharm": {
     "name": "#%%\n"
    }
   },
   "outputs": [
    {
     "name": "stdout",
     "output_type": "stream",
     "text": [
      "random five: 287\n",
      "random ten: 2545\n",
      "random hundred: 0\n",
      "\n",
      "reflex five: 100\n",
      "reflex ten: 939\n",
      "reflex hundred: 0\n",
      "\n",
      "model five: 24\n",
      "model ten: 121\n",
      "model hundred: 12091\n",
      "\n"
     ]
    },
    {
     "data": {
      "image/png": "[encoded data removed]",
      "text/plain": [
       "<Figure size 432x288 with 1 Axes>"
      ]
     },
     "metadata": {
      "needs_background": "light"
     },
     "output_type": "display_data"
    }
   ],
   "source": [
    "# Your code goes here\n",
    "# I commented out the ones that would make this run all night... again\n",
    "import matplotlib.pyplot as plt\n",
    "random_five = 0\n",
    "random_five_arr = []\n",
    "random_ten = 0\n",
    "random_ten_arr = []\n",
    "random_hundred = 0\n",
    "random_hundred_arr = []\n",
    "\n",
    "reflex_five = 0\n",
    "reflex_five_arr = []\n",
    "reflex_ten = 0\n",
    "reflex_ten_arr = []\n",
    "reflex_hundred = 0\n",
    "reflex_hundred_arr = []\n",
    "\n",
    "model_five = 0\n",
    "model_five_arr = []\n",
    "model_ten = 0\n",
    "model_ten_arr = []\n",
    "model_hundred = 0\n",
    "model_hundred_arr = []\n",
    "\n",
    "\n",
    "for i in range(100):\n",
    "    # Add to random totals\n",
    "    tmp = environment(simple_randomized_agent, -1)\n",
    "    random_five += tmp\n",
    "    random_five_arr.append(tmp)\n",
    "    tmp = environment(simple_randomized_agent, -1, False, 10)\n",
    "    random_ten += tmp\n",
    "    random_ten_arr.append(tmp)\n",
    "    # tmp = environment(simple_randomized_agent, -1, False, 100)\n",
    "    # random_hundred += tmp\n",
    "    # random_hundred_arr.append(tmp)\n",
    "\n",
    "    # Add to reflex totals\n",
    "    tmp = environment(simple_reflex_agent, -1)\n",
    "    reflex_five += tmp\n",
    "    reflex_five_arr.append(tmp)\n",
    "    tmp = environment(simple_reflex_agent, -1, False, 10)\n",
    "    reflex_ten += tmp\n",
    "    reflex_ten_arr.append(tmp)\n",
    "    # tmp = environment(simple_reflex_agent, -1, False, 100)\n",
    "    # reflex_hundred += tmp\n",
    "    # reflex_hundred_arr.append(tmp)\n",
    "\n",
    "    # Add to model totals\n",
    "    heading = 'south'\n",
    "    started = False\n",
    "    tmp = environment(model_based_agent, -1)\n",
    "    model_five += tmp\n",
    "    model_five_arr.append(tmp)\n",
    "\n",
    "    heading = 'south'\n",
    "    started = False\n",
    "    tmp = environment(model_based_agent, -1, False, 10)\n",
    "    model_ten += tmp\n",
    "    model_ten_arr.append(tmp)\n",
    "\n",
    "    heading = 'south'\n",
    "    started = False\n",
    "    tmp = environment(model_based_agent, -1, False, 100)\n",
    "    model_hundred += tmp\n",
    "    model_hundred_arr.append(tmp)\n",
    "\n",
    "\n",
    "\n",
    "random_five = int(random_five/100)\n",
    "random_ten = int(random_ten/100)\n",
    "random_hundred = int(random_hundred/100)\n",
    "\n",
    "print('random five:', random_five)\n",
    "print('random ten:', random_ten)\n",
    "print('random hundred:', random_hundred)\n",
    "print()\n",
    "\n",
    "reflex_five = int(reflex_five/100)\n",
    "reflex_ten = int(reflex_ten/100)\n",
    "reflex_hundred = int(reflex_hundred/10)\n",
    "\n",
    "print('reflex five:', reflex_five)\n",
    "print('reflex ten:', reflex_ten)\n",
    "print('reflex hundred:', reflex_hundred)\n",
    "print()\n",
    "\n",
    "model_five = int(model_five/100)\n",
    "model_ten = int(model_ten/100)\n",
    "model_hundred = int(model_hundred/100)\n",
    "\n",
    "print('model five:', model_five)\n",
    "print('model ten:', model_ten)\n",
    "print('model hundred:', model_hundred)\n",
    "print()\n",
    "\n",
    "def show_graph(extra = ''):\n",
    "    x_pos = range(1,101)\n",
    "    global random_five_arr\n",
    "    global random_ten_arr\n",
    "    # global random_hundred_arr\n",
    "\n",
    "    global reflex_five_arr\n",
    "    global reflex_ten_arr\n",
    "    # global reflex_hundred_arr\n",
    "\n",
    "    global model_five_arr\n",
    "    global model_ten_arr\n",
    "    global model_hundred_arr\n",
    "\n",
    "    plt.plot(x_pos, random_five_arr, label = \"Random 5x5\")\n",
    "    plt.plot(x_pos, random_ten_arr, label = \"Random 10x10\")\n",
    "    if extra == 'random':\n",
    "        plt.plot(x_pos, random_hundred_arr, label = \"Random 100x100\")\n",
    "\n",
    "    plt.plot(x_pos, reflex_five_arr, label = \"Reflex 5x5\")\n",
    "    plt.plot(x_pos, reflex_ten_arr, label = \"Reflex 10x10\")\n",
    "    if extra == 'reflex':\n",
    "        plt.plot(x_pos, reflex_hundred_arr, label = \"Reflex 100x100\")\n",
    "\n",
    "    plt.plot(x_pos, model_five_arr, label = \"Model 5x5\")\n",
    "    plt.plot(x_pos, model_ten_arr, label = \"Model 10x10\")\n",
    "    if extra == 'model':\n",
    "        plt.plot(x_pos, model_hundred_arr, label = \"Model 100x100\")\n",
    "\n",
    "    plt.xlabel('Iteration')\n",
    "    plt.ylabel('Steps Required')\n",
    "    plt.title('Steps Required Per Iteration By Agent Type')\n",
    "\n",
    "    plt.legend()\n",
    "    plt.show()\n",
    "\n",
    "show_graph()"
   ]
  },
  {
   "cell_type": "markdown",
   "metadata": {
    "pycharm": {
     "name": "#%% md\n"
    }
   },
   "source": [
    "Fill out the following table with the average performance measure for 100 random runs (you may also create this table with code):\n",
    "\n",
    "| Size     | Randomized Agent | Simple Reflex Agent | Model-based Reflex Agent |\n",
    "|----------|------------------|---------------------|--------------------------|\n",
    "| 5x5     | 299              | 2518                | 875493                   |\n",
    "| 10x10   | 112              | 982                 | 317621                   |\n",
    "| 100x100 | 25               | 120                 | 12096                    |\n",
    "\n",
    "Add charts to compare the performance of the different agents."
   ]
  },
  {
   "cell_type": "code",
   "execution_count": 11,
   "metadata": {
    "pycharm": {
     "name": "#%%\n"
    }
   },
   "outputs": [
    {
     "data": {
      "image/png": "[encoded data removed]",
      "text/plain": [
       "<Figure size 432x288 with 1 Axes>"
      ]
     },
     "metadata": {
      "needs_background": "light"
     },
     "output_type": "display_data"
    },
    {
     "data": {
      "image/png": "[encoded data removed]",
      "text/plain": [
       "<Figure size 432x288 with 1 Axes>"
      ]
     },
     "metadata": {
      "needs_background": "light"
     },
     "output_type": "display_data"
    }
   ],
   "source": [
    "# Your graphs and discussion of the results goes here\n",
    "# I have my graph output adjusted to omit the 100x100 as they make the graph harder to read the other values because they are so much less\n",
    "# However, the other 100x100s are fastest for the model, then the reflext, and extremely slow for the random agent. I ran the simulation overnight to get the number in the table above, but the \n",
    "#    number illustrate how much slower the random is than the reflex and the reflex is already significantly slwoer than the model\n",
    "show_graph()\n",
    "#I will also shoe the graph with the last model (100x100) since it still finishes in a reasonable amount of time compared to the reflex and random, it just makes it harder to visualize the results\n",
    "show_graph('model')"
   ]
  },
  {
   "cell_type": "markdown",
   "metadata": {
    "pycharm": {
     "name": "#%% md\n"
    }
   },
   "source": [
    "## Task 5: Robustness of the agent implementations [10 Points] \n",
    "\n",
    "Describe how **your agent implementations** will perform \n",
    "\n",
    "* if it is put into a rectangular room with unknown size, \n",
    "* if the cleaning area can have an iregular shape (e.g., a hallway connecting two rooms), or \n",
    "* if the room contains obstacles (i.e., squares that it cannot pass through and trigger the bumper sensors)."
   ]
  },
  {
   "cell_type": "code",
   "execution_count": 12,
   "metadata": {
    "pycharm": {
     "name": "#%%\n"
    }
   },
   "outputs": [],
   "source": [
    "# Answer goes here\n",
    "# if it is put into a rectangular room with unknown size:\n",
    "# my bot will be able to clean this room in the expected amount of steps being (in an m x n room) mn * 1.2 plus a little to get to the starting position for the model agent. \n",
    "# This agent is consistent in this cleaning quantity and will always finish cleaning this room. The reflex is second fastest and does not have the guarantee of finishing; it also does not have a\n",
    "# consistent quantity of solution steps. The attributes of the reflex bot also apply to the random bot, however it is far less efficient.\n",
    "\n",
    "# if the cleaning area can have an irregular shape (e.g., a hallway connecting two rooms):\n",
    "# my model based agent would remain the fastest so long as it was allowed some modifications to understand the new possible movements. \n",
    "# With a hallway, this would mean recognizing new spaces and routing through them accordingly. My two other agents, reflex and random, would see similar efficiency (so long as the bot had an equal\n",
    "# chance at randomly happening into the hallway or new rooms as it did for just cleaning a single room, and this might not be the case with a narrow hallway the bot would have to find) and need no \n",
    "# modification.\n",
    "\n",
    "# if the room contains obstacles (i.e., squares that it cannot pass through and trigger the bumper sensors):\n",
    "# my reflex and random agents would require no modification. They might be slowed down if the obstacles block or make areas harder to reach and this could slow the efficiency of these already not very\n",
    "# efficient bots would still, however, be able to finish the room. My model based implementation, however, would require some modification. if there was a corner shaped obstacle, it could trick the\n",
    "# bot into thinking it had navigated to its starting position even if it hadn't yet. This would cause a premature start and the remaining left side of the room would stay dirty. in addition to this,\n",
    "# the bot would inevitably hit some obstacles and think it had reached the top or bottom of the room and turn around, leaving the other side of the obstacle dirty.\n",
    "# To solve this, I would need to implement some form of room mapping where the robot learns about where it is and if the obstacle was truly at the top or bottom of the room and if not, learn to go around it."
   ]
  },
  {
   "cell_type": "markdown",
   "metadata": {
    "pycharm": {
     "name": "#%% md\n"
    }
   },
   "source": [
    "## Graduate student advanced task: Obstacles [10 Points]\n",
    "\n",
    "__Undergraduate students:__ This is a bonus task you can attempt if you like [+5 Bonus Points].\n",
    "\n",
    "1. Change your simulation environment to run experiments for the following problem: Add random obstacle squares that also trigger the bumper sensor. The agent does not know where the obstacles are. Observe how this changes the performance of the three implementations.\n",
    "\n",
    "2. Describe what would need to be done to perform better with obstacles. Add code if you can. "
   ]
  },
  {
   "cell_type": "code",
   "execution_count": 13,
   "metadata": {
    "pycharm": {
     "name": "#%%\n"
    }
   },
   "outputs": [
    {
     "name": "stdout",
     "output_type": "stream",
     "text": [
      "Below is the comparison of the old obstacle-less environment and the new, obstacle-ridden environment for 5x5 and 10x10 with a max 100,000 steps (meaning it should finish unless not capable.\n",
      "Feel free to rerun and compare performances\n",
      "\n",
      "OBSTACLES: The random agent 5x5 finished in 8 steps\n",
      "The random agent 5x5 finished in 45 steps\n",
      "\n",
      "OBSTACLES: The random agent 10x10 finished in 3036 steps\n",
      "The random agent 10x10 finished in 2163 steps\n",
      "\n",
      "OBSTACLES: The reflex agent 5x5 finished in 20 steps\n",
      "The reflex agent 5x5 finished in 31 steps\n",
      "\n",
      "OBSTACLES: The reflex agent 10x10 finished in 1911 steps\n",
      "The reflex agent 10x10 finished in 1113 steps\n",
      "\n",
      "OBSTACLES: The model agent 5x5 failed to finished in 100000 steps\n",
      "The model agent 5x5 finished in 7 steps\n",
      "\n",
      "OBSTACLES: The model agent 10x10 failed to finished in 100000 steps\n",
      "The model agent 10x10 finished in 113 steps\n"
     ]
    }
   ],
   "source": [
    "# Your code and discussion goes here\n",
    "def get_obstacle_sensors(environment, botX, botY):\n",
    "    dimensions = len(environment)\n",
    "    sides = {\"north\" : False, \"south\" : False, \"west\" : False, \"east\" : False}\n",
    "    if botY == 0 or environment[botX][botY-1] == 'wall':\n",
    "        sides['west'] = True\n",
    "    if botX == 0 or environment[botX-1][botY] == 'wall':\n",
    "        sides['north'] = True\n",
    "    if botY == dimensions-1 or environment[botX][botY+1] == 'wall':\n",
    "        sides['east'] = True\n",
    "    if botX == dimensions-1 or environment[botX+1][botY] == 'wall':\n",
    "        sides['south'] = True\n",
    "    return sides\n",
    "# I am making an environment that still has a .2 chance of being dirty on some areas, but if it is not dirty, there is then a .2 chance a wall will be placed as an obstacle\n",
    "# This env will return if it completed or not and if so how many steps it took to clean up\n",
    "def obstacle_environment(agent, steps, verbose = False, dimensions = 5):\n",
    "    movements = {'north': {'x': -1, 'y': 0}, 'south': {'x': 1, 'y': 0}, 'east': {'x': 0, 'y': 1}, 'west': {'x': 0, 'y': -1}}\n",
    "    env = [ ['clean']*dimensions for i in range(dimensions)]\n",
    "    #assign dirt\n",
    "    for i in range(dimensions):\n",
    "        for j in range(dimensions):\n",
    "            if np.random.rand() < .2:\n",
    "                env[i][j] = 'dirty'\n",
    "            elif np.random.rand() < .2:\n",
    "                env[i][j] = 'wall'\n",
    "\n",
    "    #place vacuum\n",
    "    botX = np.random.randint(dimensions)\n",
    "    botY = np.random.randint(dimensions)\n",
    "    underTheBot = env[botX][botY]\n",
    "    env[botX][botY] = 'bot'\n",
    "\n",
    "    #do all steps for bot\n",
    "    if verbose:\n",
    "        print('initial')\n",
    "        print_environment(env)\n",
    "        print()\n",
    "\n",
    "    count = 0\n",
    "    for i in range(steps):\n",
    "        walls = get_obstacle_sensors(env, botX, botY)\n",
    "        dirt = False\n",
    "        if underTheBot == 'dirty':\n",
    "            dirt = True\n",
    "        move = agent(walls, dirt)\n",
    "        if verbose:\n",
    "            print(walls)\n",
    "            print(move)\n",
    "        if move == 'suck':\n",
    "            underTheBot = 'clean'\n",
    "        else:\n",
    "            if walls[move] is False:\n",
    "                env[botX][botY] = underTheBot\n",
    "                botX += movements[move]['x']\n",
    "                botY += movements[move]['y']\n",
    "                underTheBot = env[botX][botY]\n",
    "                env[botX][botY] = 'bot'\n",
    "        if check_clean(env):\n",
    "            if verbose:\n",
    "                print('cleaned in', i, 'steps')\n",
    "            break\n",
    "        if verbose:\n",
    "            print_environment(env)\n",
    "            print()\n",
    "        count += 1\n",
    "\n",
    "    if verbose:\n",
    "        print('after')\n",
    "        print_environment(env)\n",
    "    return count, check_clean(env)\n",
    "\n",
    "print('Below is the comparison of the old obstacle-less environment and the new, obstacle-ridden environment for 5x5 and 10x10 with a max 100,000 steps (meaning it should finish unless not capable.')\n",
    "print('Feel free to rerun and compare performances')\n",
    "random_five_steps, random_five_done = obstacle_environment(simple_randomized_agent, 100000)\n",
    "random_ten_steps, random_ten_done = obstacle_environment(simple_randomized_agent, 100000, False, 10)\n",
    "\n",
    "reflex_five_steps, reflex_five_done = obstacle_environment(simple_reflex_agent, 100000)\n",
    "reflex_ten_steps, reflex_ten_done = obstacle_environment(simple_reflex_agent, 100000, False, 10)\n",
    "\n",
    "heading = 'south'\n",
    "started = False\n",
    "model_five_steps, model_five_done = obstacle_environment(model_based_agent, 100000)\n",
    "heading = 'south'\n",
    "started = False\n",
    "model_ten_steps, model_ten_done = obstacle_environment(model_based_agent, 100000, False, 10)\n",
    "\n",
    "print()\n",
    "print('OBSTACLES: The random agent 5x5 finished in' if random_five_done else 'OBSTACLES: The random agent 5x5 failed to finish in', random_five_steps, 'steps')\n",
    "random_five_steps, random_five_done = environment(simple_randomized_agent, 100000)\n",
    "print('The random agent 5x5 finished in' if random_five_done else 'The random agent 5x5 failed to finish in', random_five_steps, 'steps')\n",
    "print()\n",
    "print('OBSTACLES: The random agent 10x10 finished in' if random_ten_done else 'OBSTACLES: The random agent 10x10 failed to finished in', random_ten_steps, 'steps')\n",
    "random_ten_steps, random_ten_done = environment(simple_randomized_agent, 100000, False, 10)\n",
    "print('The random agent 10x10 finished in' if random_ten_done else 'The random agent 10x10 failed to finished in', random_ten_steps, 'steps')\n",
    "print()\n",
    "print('OBSTACLES: The reflex agent 5x5 finished in' if reflex_five_done else 'OBSTACLES: The reflex agent 5x5 failed to finished in', reflex_five_steps, 'steps')\n",
    "reflex_five_steps, reflex_five_done = environment(simple_reflex_agent, 100000)\n",
    "print('The reflex agent 5x5 finished in' if reflex_five_done else 'The reflex agent 5x5 failed to finished in', reflex_five_steps, 'steps')\n",
    "print()\n",
    "print('OBSTACLES: The reflex agent 10x10 finished in' if reflex_ten_done else 'OBSTACLES: The reflex agent 10x10 failed to finished in', reflex_ten_steps, 'steps')\n",
    "reflex_ten_steps, reflex_ten_done = environment(simple_reflex_agent, 100000, False, 10)\n",
    "print('The reflex agent 10x10 finished in' if reflex_ten_done else 'The reflex agent 10x10 failed to finished in', reflex_ten_steps, 'steps')\n",
    "print()\n",
    "print('OBSTACLES: The model agent 5x5 finished in' if model_five_done else 'OBSTACLES: The model agent 5x5 failed to finished in', model_five_steps, 'steps')\n",
    "heading = 'south'\n",
    "started = False\n",
    "model_five_steps, model_five_done = environment(model_based_agent, 100000)\n",
    "print('The model agent 5x5 finished in' if model_five_done else 'The model agent 5x5 failed to finished in', model_five_steps, 'steps')\n",
    "print()\n",
    "print('OBSTACLES: The model agent 10x10 finished in' if model_ten_done else 'OBSTACLES: The model agent 10x10 failed to finished in', model_ten_steps, 'steps')\n",
    "heading = 'south'\n",
    "started = False\n",
    "model_ten_steps, model_ten_done = environment(model_based_agent, 100000, False, 10)\n",
    "print('The model agent 10x10 finished in' if model_ten_done else 'The model agent 10x10 failed to finished in', model_ten_steps, 'steps')"
   ]
  },
  {
   "cell_type": "code",
   "execution_count": 14,
   "metadata": {
    "pycharm": {
     "name": "#%%\n"
    }
   },
   "outputs": [],
   "source": [
    "# It does not say I have to code this section, so I will just say to guarantee the model solves it I would make sure it can avoid/prevent the following: \n",
    "# if there was a corner shaped obstacle, it could trick the bot into thinking it had navigated to its starting position even if it hadn't yet. this would cause a premature start and\n",
    "# the remaining left side of the room would stay dirty. In addition to this, the bot would inevitably hit some obstacles and think it had reached the\n",
    "# top or bottom of the room and turn around, leaving the other side of the obstacle dirty. To solve this, I would need to implement some form of room mapping where the\n",
    "# robot learns about where it is and if the obstacle was truly at the top or bottom of the room and if not, learn to go around it.\n",
    "\n",
    "# The other two would not benefit from much different without changing the actual agent type from being the random or reflex"
   ]
  },
  {
   "cell_type": "markdown",
   "metadata": {
    "pycharm": {
     "name": "#%% md\n"
    }
   },
   "source": [
    "## More advanced implementation tasks\n",
    "\n",
    "* __Agent for and environment with obstacles:__ Implement an agent for an environment where the agent does not know how large the environment is (we assume it is rectangular), where it starts or where the obstacles are. An option would be to always move to the closest unchecked/uncleaned square (note that this is actually depth-first search).\n",
    "\n",
    "* __Utility-based agent:__ Change the environment for a $5 \\times 5$ room, so each square has a fixed probability of getting dirty again. For the implementation, we give the environment a 2-dimensional array of probabilities. The utility of a state is defined as the number of currently clean squares in the room. Implement a utility-based agent that maximizes the expected utility over one full charge which lasts for 100000 time steps. To do this, the agent needs to learn the probabilities with which different squares get dirty again. This is very tricky!"
   ]
  },
  {
   "cell_type": "code",
   "execution_count": 15,
   "metadata": {
    "pycharm": {
     "name": "#%%\n"
    }
   },
   "outputs": [],
   "source": [
    "# Your ideas/code\n",
    "\n",
    "# I would run the depth first search (this could be done using a camera or something on the actual robot) then go to the nearest unclean square.\n",
    "# If there are no visible unclean squares, I would ensure the entire room was visible to ensure 100% clean this may not be the most efficient,\n",
    "# but it guarantees that nothing is needed to understand current location and the robot will just always be making meaningful motions towards a dirty square\n",
    "\n",
    "# This seems really tricky, I think this would require a large amount of robot training, so it would get better at understanding when it would need to turn around\n",
    "# or come back later to a particular square it decides has a high chance of getting dirty again"
   ]
  }
 ],
 "metadata": {
  "kernelspec": {
   "display_name": "Python 3 (ipykernel)",
   "language": "python",
   "name": "python3"
  },
  "language_info": {
   "codemirror_mode": {
    "name": "ipython",
    "version": 3
   },
   "file_extension": ".py",
   "mimetype": "text/x-python",
   "name": "python",
   "nbconvert_exporter": "python",
   "pygments_lexer": "ipython3",
   "version": "3.9.7"
  },
  "toc-autonumbering": false
 },
 "nbformat": 4,
 "nbformat_minor": 4
}
